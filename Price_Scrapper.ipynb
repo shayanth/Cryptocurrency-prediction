{
 "cells": [
  {
   "cell_type": "code",
   "execution_count": 1,
   "metadata": {},
   "outputs": [],
   "source": [
    "from datetime import datetime,timedelta,date\n",
    "from time import time\n",
    "import requests\n",
    "import pandas as pd\n",
    "from datetime import date,datetime\n",
    "import json\n",
    "from ta.volatility import BollingerBands\n",
    "from ta import add_all_ta_features\n"
   ]
  },
  {
   "cell_type": "code",
   "execution_count": 2,
   "metadata": {},
   "outputs": [
    {
     "name": "stdout",
     "output_type": "stream",
     "text": [
      "2329\n"
     ]
    }
   ],
   "source": [
    "date0,date1 = datetime(2016,1,1) ,datetime.now() - timedelta(days=1)\n",
    "\n",
    "days = (date1 - date0).days\n",
    "print(days)"
   ]
  },
  {
   "cell_type": "code",
   "execution_count": 3,
   "metadata": {},
   "outputs": [],
   "source": [
    "DataFrame = pd.DataFrame(columns = [\"time\",\"low\",\"high\",\"open\",\"close\",\"volume\",\"date\"])\n"
   ]
  },
  {
   "cell_type": "code",
   "execution_count": 4,
   "metadata": {},
   "outputs": [
    {
     "data": {
      "text/html": [
       "<div>\n",
       "<style scoped>\n",
       "    .dataframe tbody tr th:only-of-type {\n",
       "        vertical-align: middle;\n",
       "    }\n",
       "\n",
       "    .dataframe tbody tr th {\n",
       "        vertical-align: top;\n",
       "    }\n",
       "\n",
       "    .dataframe thead th {\n",
       "        text-align: right;\n",
       "    }\n",
       "</style>\n",
       "<table border=\"1\" class=\"dataframe\">\n",
       "  <thead>\n",
       "    <tr style=\"text-align: right;\">\n",
       "      <th></th>\n",
       "      <th>time</th>\n",
       "      <th>low</th>\n",
       "      <th>high</th>\n",
       "      <th>open</th>\n",
       "      <th>close</th>\n",
       "      <th>volume</th>\n",
       "      <th>date</th>\n",
       "    </tr>\n",
       "  </thead>\n",
       "  <tbody>\n",
       "  </tbody>\n",
       "</table>\n",
       "</div>"
      ],
      "text/plain": [
       "Empty DataFrame\n",
       "Columns: [time, low, high, open, close, volume, date]\n",
       "Index: []"
      ]
     },
     "execution_count": 4,
     "metadata": {},
     "output_type": "execute_result"
    }
   ],
   "source": [
    "DataFrame"
   ]
  },
  {
   "cell_type": "code",
   "execution_count": 5,
   "metadata": {},
   "outputs": [],
   "source": [
    "dates = []\n",
    "d0 = date0\n",
    "d1 = date1\n",
    "date =[]\n",
    "for i in range(1,(days//300)+ 1):\n",
    "    \n",
    "    d1 = d0 + timedelta(days=300)\n",
    "    date = [d0.strftime(\"%Y-%m-%d\"),d1.strftime(\"%Y-%m-%d\")]\n",
    "    dates.append(date)\n",
    "    d0 = d1\n",
    "\n",
    "d1 = d0 + timedelta(days= days % 300)\n",
    "date = [d0.strftime(\"%Y-%m-%d\"),d1.strftime(\"%Y-%m-%d\")]\n",
    "dates.append(date)\n"
   ]
  },
  {
   "cell_type": "code",
   "execution_count": 6,
   "metadata": {},
   "outputs": [],
   "source": [
    "\n",
    "#API_MAIN_LINK\n",
    "url = \"https://api.exchange.coinbase.com\"\n",
    "\n",
    "#Currency name to scrap price \n",
    "sym = 'BTC-USD'\n",
    "\n",
    "#start & ending time of period with size of candle\n",
    "for i in dates:\n",
    "    parameters = {\n",
    "        'start':i[0],\n",
    "        'end':i[1],\n",
    "        'granularity':'86400'\n",
    "    }\n",
    "    data = requests.get(f\"{url}/products/{sym}/candles\",params=parameters,headers={'Accepts':'application/json'})\n",
    "    df = pd.DataFrame(data.json(),columns = [\"time\",\"low\",\"high\",\"open\",\"close\",\"volume\"])\n",
    "    df[\"date\"] = pd.to_datetime(df[\"time\"],unit='s')\n",
    "    DataFrame = DataFrame.append(df)\n"
   ]
  },
  {
   "cell_type": "code",
   "execution_count": 7,
   "metadata": {},
   "outputs": [],
   "source": [
    "DataFrame.sort_values(by='date',inplace=True)\n",
    "\n"
   ]
  },
  {
   "cell_type": "code",
   "execution_count": 8,
   "metadata": {},
   "outputs": [
    {
     "name": "stdout",
     "output_type": "stream",
     "text": [
      "<class 'pandas.core.frame.DataFrame'>\n",
      "Int64Index: 2330 entries, 299 to 0\n",
      "Data columns (total 7 columns):\n",
      " #   Column  Non-Null Count  Dtype         \n",
      "---  ------  --------------  -----         \n",
      " 0   time    2330 non-null   object        \n",
      " 1   low     2330 non-null   float64       \n",
      " 2   high    2330 non-null   float64       \n",
      " 3   open    2330 non-null   float64       \n",
      " 4   close   2330 non-null   float64       \n",
      " 5   volume  2330 non-null   float64       \n",
      " 6   date    2330 non-null   datetime64[ns]\n",
      "dtypes: datetime64[ns](1), float64(5), object(1)\n",
      "memory usage: 145.6+ KB\n"
     ]
    }
   ],
   "source": [
    "DataFrame.info()"
   ]
  },
  {
   "cell_type": "code",
   "execution_count": 9,
   "metadata": {},
   "outputs": [],
   "source": [
    "DataFrame.drop_duplicates(inplace=True)\n"
   ]
  },
  {
   "cell_type": "code",
   "execution_count": 10,
   "metadata": {},
   "outputs": [],
   "source": [
    "DataFrame.reset_index(inplace=True)"
   ]
  },
  {
   "cell_type": "code",
   "execution_count": 11,
   "metadata": {},
   "outputs": [],
   "source": [
    "DataFrame.drop('index',axis=1,inplace=True)"
   ]
  },
  {
   "cell_type": "code",
   "execution_count": 42,
   "metadata": {},
   "outputs": [],
   "source": [
    "z = DataFrame[['date','open','high','close','low','volume','time']]"
   ]
  },
  {
   "cell_type": "code",
   "execution_count": 43,
   "metadata": {},
   "outputs": [
    {
     "data": {
      "text/html": [
       "<div>\n",
       "<style scoped>\n",
       "    .dataframe tbody tr th:only-of-type {\n",
       "        vertical-align: middle;\n",
       "    }\n",
       "\n",
       "    .dataframe tbody tr th {\n",
       "        vertical-align: top;\n",
       "    }\n",
       "\n",
       "    .dataframe thead th {\n",
       "        text-align: right;\n",
       "    }\n",
       "</style>\n",
       "<table border=\"1\" class=\"dataframe\">\n",
       "  <thead>\n",
       "    <tr style=\"text-align: right;\">\n",
       "      <th></th>\n",
       "      <th>date</th>\n",
       "      <th>open</th>\n",
       "      <th>high</th>\n",
       "      <th>close</th>\n",
       "      <th>low</th>\n",
       "      <th>volume</th>\n",
       "      <th>time</th>\n",
       "    </tr>\n",
       "  </thead>\n",
       "  <tbody>\n",
       "    <tr>\n",
       "      <th>0</th>\n",
       "      <td>2016-01-02</td>\n",
       "      <td>435.67</td>\n",
       "      <td>437.56</td>\n",
       "      <td>435.40</td>\n",
       "      <td>432.41</td>\n",
       "      <td>3276.709621</td>\n",
       "      <td>1451692800</td>\n",
       "    </tr>\n",
       "    <tr>\n",
       "      <th>1</th>\n",
       "      <td>2016-01-03</td>\n",
       "      <td>435.40</td>\n",
       "      <td>435.75</td>\n",
       "      <td>431.91</td>\n",
       "      <td>425.02</td>\n",
       "      <td>3904.335318</td>\n",
       "      <td>1451779200</td>\n",
       "    </tr>\n",
       "    <tr>\n",
       "      <th>2</th>\n",
       "      <td>2016-01-04</td>\n",
       "      <td>431.90</td>\n",
       "      <td>435.79</td>\n",
       "      <td>433.85</td>\n",
       "      <td>431.37</td>\n",
       "      <td>5894.445723</td>\n",
       "      <td>1451865600</td>\n",
       "    </tr>\n",
       "    <tr>\n",
       "      <th>3</th>\n",
       "      <td>2016-01-05</td>\n",
       "      <td>433.84</td>\n",
       "      <td>435.64</td>\n",
       "      <td>433.34</td>\n",
       "      <td>430.00</td>\n",
       "      <td>5150.109476</td>\n",
       "      <td>1451952000</td>\n",
       "    </tr>\n",
       "    <tr>\n",
       "      <th>4</th>\n",
       "      <td>2016-01-06</td>\n",
       "      <td>433.32</td>\n",
       "      <td>433.46</td>\n",
       "      <td>430.87</td>\n",
       "      <td>428.15</td>\n",
       "      <td>5476.959959</td>\n",
       "      <td>1452038400</td>\n",
       "    </tr>\n",
       "    <tr>\n",
       "      <th>...</th>\n",
       "      <td>...</td>\n",
       "      <td>...</td>\n",
       "      <td>...</td>\n",
       "      <td>...</td>\n",
       "      <td>...</td>\n",
       "      <td>...</td>\n",
       "      <td>...</td>\n",
       "    </tr>\n",
       "    <tr>\n",
       "      <th>2324</th>\n",
       "      <td>2022-05-14</td>\n",
       "      <td>29234.73</td>\n",
       "      <td>30287.58</td>\n",
       "      <td>30041.88</td>\n",
       "      <td>28564.38</td>\n",
       "      <td>15245.468184</td>\n",
       "      <td>1652486400</td>\n",
       "    </tr>\n",
       "    <tr>\n",
       "      <th>2325</th>\n",
       "      <td>2022-05-15</td>\n",
       "      <td>30041.90</td>\n",
       "      <td>31418.35</td>\n",
       "      <td>31290.05</td>\n",
       "      <td>29436.06</td>\n",
       "      <td>16440.892986</td>\n",
       "      <td>1652572800</td>\n",
       "    </tr>\n",
       "    <tr>\n",
       "      <th>2326</th>\n",
       "      <td>2022-05-16</td>\n",
       "      <td>31290.02</td>\n",
       "      <td>31293.31</td>\n",
       "      <td>29839.89</td>\n",
       "      <td>29055.00</td>\n",
       "      <td>22646.185074</td>\n",
       "      <td>1652659200</td>\n",
       "    </tr>\n",
       "    <tr>\n",
       "      <th>2327</th>\n",
       "      <td>2022-05-17</td>\n",
       "      <td>29839.89</td>\n",
       "      <td>30750.00</td>\n",
       "      <td>30412.12</td>\n",
       "      <td>29415.01</td>\n",
       "      <td>19833.306767</td>\n",
       "      <td>1652745600</td>\n",
       "    </tr>\n",
       "    <tr>\n",
       "      <th>2328</th>\n",
       "      <td>2022-05-18</td>\n",
       "      <td>30412.10</td>\n",
       "      <td>30675.92</td>\n",
       "      <td>28672.94</td>\n",
       "      <td>28605.00</td>\n",
       "      <td>28348.426436</td>\n",
       "      <td>1652832000</td>\n",
       "    </tr>\n",
       "  </tbody>\n",
       "</table>\n",
       "<p>2329 rows × 7 columns</p>\n",
       "</div>"
      ],
      "text/plain": [
       "           date      open      high     close       low        volume  \\\n",
       "0    2016-01-02    435.67    437.56    435.40    432.41   3276.709621   \n",
       "1    2016-01-03    435.40    435.75    431.91    425.02   3904.335318   \n",
       "2    2016-01-04    431.90    435.79    433.85    431.37   5894.445723   \n",
       "3    2016-01-05    433.84    435.64    433.34    430.00   5150.109476   \n",
       "4    2016-01-06    433.32    433.46    430.87    428.15   5476.959959   \n",
       "...         ...       ...       ...       ...       ...           ...   \n",
       "2324 2022-05-14  29234.73  30287.58  30041.88  28564.38  15245.468184   \n",
       "2325 2022-05-15  30041.90  31418.35  31290.05  29436.06  16440.892986   \n",
       "2326 2022-05-16  31290.02  31293.31  29839.89  29055.00  22646.185074   \n",
       "2327 2022-05-17  29839.89  30750.00  30412.12  29415.01  19833.306767   \n",
       "2328 2022-05-18  30412.10  30675.92  28672.94  28605.00  28348.426436   \n",
       "\n",
       "            time  \n",
       "0     1451692800  \n",
       "1     1451779200  \n",
       "2     1451865600  \n",
       "3     1451952000  \n",
       "4     1452038400  \n",
       "...          ...  \n",
       "2324  1652486400  \n",
       "2325  1652572800  \n",
       "2326  1652659200  \n",
       "2327  1652745600  \n",
       "2328  1652832000  \n",
       "\n",
       "[2329 rows x 7 columns]"
      ]
     },
     "execution_count": 43,
     "metadata": {},
     "output_type": "execute_result"
    }
   ],
   "source": [
    "z"
   ]
  },
  {
   "cell_type": "code",
   "execution_count": 47,
   "metadata": {},
   "outputs": [],
   "source": [
    "y = DataFrame[['close']]"
   ]
  },
  {
   "cell_type": "code",
   "execution_count": 48,
   "metadata": {},
   "outputs": [
    {
     "data": {
      "text/html": [
       "<div>\n",
       "<style scoped>\n",
       "    .dataframe tbody tr th:only-of-type {\n",
       "        vertical-align: middle;\n",
       "    }\n",
       "\n",
       "    .dataframe tbody tr th {\n",
       "        vertical-align: top;\n",
       "    }\n",
       "\n",
       "    .dataframe thead th {\n",
       "        text-align: right;\n",
       "    }\n",
       "</style>\n",
       "<table border=\"1\" class=\"dataframe\">\n",
       "  <thead>\n",
       "    <tr style=\"text-align: right;\">\n",
       "      <th></th>\n",
       "      <th>close</th>\n",
       "    </tr>\n",
       "  </thead>\n",
       "  <tbody>\n",
       "    <tr>\n",
       "      <th>0</th>\n",
       "      <td>435.40</td>\n",
       "    </tr>\n",
       "    <tr>\n",
       "      <th>1</th>\n",
       "      <td>431.91</td>\n",
       "    </tr>\n",
       "    <tr>\n",
       "      <th>2</th>\n",
       "      <td>433.85</td>\n",
       "    </tr>\n",
       "    <tr>\n",
       "      <th>3</th>\n",
       "      <td>433.34</td>\n",
       "    </tr>\n",
       "    <tr>\n",
       "      <th>4</th>\n",
       "      <td>430.87</td>\n",
       "    </tr>\n",
       "    <tr>\n",
       "      <th>...</th>\n",
       "      <td>...</td>\n",
       "    </tr>\n",
       "    <tr>\n",
       "      <th>2324</th>\n",
       "      <td>30041.88</td>\n",
       "    </tr>\n",
       "    <tr>\n",
       "      <th>2325</th>\n",
       "      <td>31290.05</td>\n",
       "    </tr>\n",
       "    <tr>\n",
       "      <th>2326</th>\n",
       "      <td>29839.89</td>\n",
       "    </tr>\n",
       "    <tr>\n",
       "      <th>2327</th>\n",
       "      <td>30412.12</td>\n",
       "    </tr>\n",
       "    <tr>\n",
       "      <th>2328</th>\n",
       "      <td>28672.94</td>\n",
       "    </tr>\n",
       "  </tbody>\n",
       "</table>\n",
       "<p>2329 rows × 1 columns</p>\n",
       "</div>"
      ],
      "text/plain": [
       "         close\n",
       "0       435.40\n",
       "1       431.91\n",
       "2       433.85\n",
       "3       433.34\n",
       "4       430.87\n",
       "...        ...\n",
       "2324  30041.88\n",
       "2325  31290.05\n",
       "2326  29839.89\n",
       "2327  30412.12\n",
       "2328  28672.94\n",
       "\n",
       "[2329 rows x 1 columns]"
      ]
     },
     "execution_count": 48,
     "metadata": {},
     "output_type": "execute_result"
    }
   ],
   "source": [
    "y"
   ]
  },
  {
   "cell_type": "code",
   "execution_count": 44,
   "metadata": {},
   "outputs": [],
   "source": [
    "bb_indicator = BollingerBands(close = DataFrame['close'],window=20,window_dev=2,fillna = True)"
   ]
  },
  {
   "cell_type": "code",
   "execution_count": 15,
   "metadata": {},
   "outputs": [
    {
     "name": "stderr",
     "output_type": "stream",
     "text": [
      "C:\\Users\\shayanTH\\AppData\\Local\\Temp\\ipykernel_12584\\3998541396.py:1: SettingWithCopyWarning: \n",
      "A value is trying to be set on a copy of a slice from a DataFrame.\n",
      "Try using .loc[row_indexer,col_indexer] = value instead\n",
      "\n",
      "See the caveats in the documentation: https://pandas.pydata.org/pandas-docs/stable/user_guide/indexing.html#returning-a-view-versus-a-copy\n",
      "  z['bb_bbm'] = bb_indicator.bollinger_mavg()\n",
      "C:\\Users\\shayanTH\\AppData\\Local\\Temp\\ipykernel_12584\\3998541396.py:2: SettingWithCopyWarning: \n",
      "A value is trying to be set on a copy of a slice from a DataFrame.\n",
      "Try using .loc[row_indexer,col_indexer] = value instead\n",
      "\n",
      "See the caveats in the documentation: https://pandas.pydata.org/pandas-docs/stable/user_guide/indexing.html#returning-a-view-versus-a-copy\n",
      "  z['bb_bbh'] = bb_indicator.bollinger_hband()\n",
      "C:\\Users\\shayanTH\\AppData\\Local\\Temp\\ipykernel_12584\\3998541396.py:3: SettingWithCopyWarning: \n",
      "A value is trying to be set on a copy of a slice from a DataFrame.\n",
      "Try using .loc[row_indexer,col_indexer] = value instead\n",
      "\n",
      "See the caveats in the documentation: https://pandas.pydata.org/pandas-docs/stable/user_guide/indexing.html#returning-a-view-versus-a-copy\n",
      "  z['bb_bbl'] = bb_indicator.bollinger_lband()\n"
     ]
    }
   ],
   "source": [
    "z['bb_bbm'] = bb_indicator.bollinger_mavg()\n",
    "z['bb_bbh'] = bb_indicator.bollinger_hband()\n",
    "z['bb_bbl'] = bb_indicator.bollinger_lband()"
   ]
  },
  {
   "cell_type": "code",
   "execution_count": 16,
   "metadata": {},
   "outputs": [],
   "source": [
    "DataFrame = z"
   ]
  },
  {
   "cell_type": "code",
   "execution_count": 17,
   "metadata": {},
   "outputs": [],
   "source": [
    "DataFrame.to_csv('Prices.csv')"
   ]
  },
  {
   "cell_type": "code",
   "execution_count": null,
   "metadata": {},
   "outputs": [],
   "source": []
  }
 ],
 "metadata": {
  "interpreter": {
   "hash": "ece85929c044958f34acfe566bafad543e51b439ee1614a8ddb800e1a953682b"
  },
  "kernelspec": {
   "display_name": "Python 3.10.4 64-bit",
   "language": "python",
   "name": "python3"
  },
  "language_info": {
   "codemirror_mode": {
    "name": "ipython",
    "version": 3
   },
   "file_extension": ".py",
   "mimetype": "text/x-python",
   "name": "python",
   "nbconvert_exporter": "python",
   "pygments_lexer": "ipython3",
   "version": "3.10.4"
  },
  "orig_nbformat": 4
 },
 "nbformat": 4,
 "nbformat_minor": 2
}
