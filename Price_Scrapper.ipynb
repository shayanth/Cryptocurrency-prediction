{
 "cells": [
  {
   "cell_type": "code",
   "execution_count": 2,
   "metadata": {},
   "outputs": [],
   "source": [
    "from datetime import datetime,timedelta,date\n",
    "from time import time\n",
    "import requests\n",
    "import pandas as pd\n",
    "from datetime import date,datetime\n",
    "import json\n",
    "from ta.volatility import BollingerBands\n",
    "from ta import add_all_ta_features\n"
   ]
  },
  {
   "cell_type": "code",
   "execution_count": 3,
   "metadata": {},
   "outputs": [
    {
     "name": "stdout",
     "output_type": "stream",
     "text": [
      "2314\n"
     ]
    }
   ],
   "source": [
    "date0,date1 = datetime(2016,1,1) ,datetime.now() - timedelta(days=1)\n",
    "\n",
    "days = (date1 - date0).days\n",
    "print(days)"
   ]
  },
  {
   "cell_type": "code",
   "execution_count": 4,
   "metadata": {},
   "outputs": [],
   "source": [
    "DataFrame = pd.DataFrame(columns = [\"time\",\"low\",\"high\",\"open\",\"close\",\"volume\",\"date\"])\n"
   ]
  },
  {
   "cell_type": "code",
   "execution_count": 5,
   "metadata": {},
   "outputs": [
    {
     "data": {
      "text/html": [
       "<div>\n",
       "<style scoped>\n",
       "    .dataframe tbody tr th:only-of-type {\n",
       "        vertical-align: middle;\n",
       "    }\n",
       "\n",
       "    .dataframe tbody tr th {\n",
       "        vertical-align: top;\n",
       "    }\n",
       "\n",
       "    .dataframe thead th {\n",
       "        text-align: right;\n",
       "    }\n",
       "</style>\n",
       "<table border=\"1\" class=\"dataframe\">\n",
       "  <thead>\n",
       "    <tr style=\"text-align: right;\">\n",
       "      <th></th>\n",
       "      <th>time</th>\n",
       "      <th>low</th>\n",
       "      <th>high</th>\n",
       "      <th>open</th>\n",
       "      <th>close</th>\n",
       "      <th>volume</th>\n",
       "      <th>date</th>\n",
       "    </tr>\n",
       "  </thead>\n",
       "  <tbody>\n",
       "  </tbody>\n",
       "</table>\n",
       "</div>"
      ],
      "text/plain": [
       "Empty DataFrame\n",
       "Columns: [time, low, high, open, close, volume, date]\n",
       "Index: []"
      ]
     },
     "execution_count": 5,
     "metadata": {},
     "output_type": "execute_result"
    }
   ],
   "source": [
    "DataFrame"
   ]
  },
  {
   "cell_type": "code",
   "execution_count": 6,
   "metadata": {},
   "outputs": [],
   "source": [
    "dates = []\n",
    "d0 = date0\n",
    "d1 = date1\n",
    "date =[]\n",
    "for i in range(1,(days//300)+ 1):\n",
    "    \n",
    "    d1 = d0 + timedelta(days=300)\n",
    "    date = [d0.strftime(\"%Y-%m-%d\"),d1.strftime(\"%Y-%m-%d\")]\n",
    "    dates.append(date)\n",
    "    d0 = d1\n",
    "\n",
    "d1 = d0 + timedelta(days= days % 300)\n",
    "date = [d0.strftime(\"%Y-%m-%d\"),d1.strftime(\"%Y-%m-%d\")]\n",
    "dates.append(date)\n"
   ]
  },
  {
   "cell_type": "code",
   "execution_count": 7,
   "metadata": {},
   "outputs": [],
   "source": [
    "\n",
    "#API_MAIN_LINK\n",
    "url = \"https://api.exchange.coinbase.com\"\n",
    "\n",
    "#Currency name to scrap price \n",
    "sym = 'BTC-USD'\n",
    "\n",
    "#start & ending time of period with size of candle\n",
    "for i in dates:\n",
    "    parameters = {\n",
    "        'start':i[0],\n",
    "        'end':i[1],\n",
    "        'granularity':'86400'\n",
    "    }\n",
    "    data = requests.get(f\"{url}/products/{sym}/candles\",params=parameters,headers={'Accepts':'application/json'})\n",
    "    df = pd.DataFrame(data.json(),columns = [\"time\",\"low\",\"high\",\"open\",\"close\",\"volume\"])\n",
    "    df[\"date\"] = pd.to_datetime(df[\"time\"],unit='s')\n",
    "    DataFrame = DataFrame.append(df)\n"
   ]
  },
  {
   "cell_type": "code",
   "execution_count": 8,
   "metadata": {},
   "outputs": [],
   "source": [
    "DataFrame.sort_values(by='date',inplace=True)\n",
    "\n"
   ]
  },
  {
   "cell_type": "code",
   "execution_count": 9,
   "metadata": {},
   "outputs": [
    {
     "name": "stdout",
     "output_type": "stream",
     "text": [
      "<class 'pandas.core.frame.DataFrame'>\n",
      "Int64Index: 2315 entries, 299 to 0\n",
      "Data columns (total 7 columns):\n",
      " #   Column  Non-Null Count  Dtype         \n",
      "---  ------  --------------  -----         \n",
      " 0   time    2315 non-null   object        \n",
      " 1   low     2315 non-null   float64       \n",
      " 2   high    2315 non-null   float64       \n",
      " 3   open    2315 non-null   float64       \n",
      " 4   close   2315 non-null   float64       \n",
      " 5   volume  2315 non-null   float64       \n",
      " 6   date    2315 non-null   datetime64[ns]\n",
      "dtypes: datetime64[ns](1), float64(5), object(1)\n",
      "memory usage: 144.7+ KB\n"
     ]
    }
   ],
   "source": [
    "DataFrame.info()"
   ]
  },
  {
   "cell_type": "code",
   "execution_count": 10,
   "metadata": {},
   "outputs": [],
   "source": [
    "DataFrame.drop_duplicates(inplace=True)\n"
   ]
  },
  {
   "cell_type": "code",
   "execution_count": 11,
   "metadata": {},
   "outputs": [],
   "source": [
    "DataFrame.reset_index(inplace=True)"
   ]
  },
  {
   "cell_type": "code",
   "execution_count": 12,
   "metadata": {},
   "outputs": [],
   "source": [
    "DataFrame.drop('index',axis=1,inplace=True)"
   ]
  },
  {
   "cell_type": "code",
   "execution_count": 13,
   "metadata": {},
   "outputs": [],
   "source": [
    "z = DataFrame[['date','open','high','close','low','volume','time']]"
   ]
  },
  {
   "cell_type": "code",
   "execution_count": 16,
   "metadata": {},
   "outputs": [
    {
     "data": {
      "text/html": [
       "<div>\n",
       "<style scoped>\n",
       "    .dataframe tbody tr th:only-of-type {\n",
       "        vertical-align: middle;\n",
       "    }\n",
       "\n",
       "    .dataframe tbody tr th {\n",
       "        vertical-align: top;\n",
       "    }\n",
       "\n",
       "    .dataframe thead th {\n",
       "        text-align: right;\n",
       "    }\n",
       "</style>\n",
       "<table border=\"1\" class=\"dataframe\">\n",
       "  <thead>\n",
       "    <tr style=\"text-align: right;\">\n",
       "      <th></th>\n",
       "      <th>date</th>\n",
       "      <th>open</th>\n",
       "      <th>high</th>\n",
       "      <th>close</th>\n",
       "      <th>low</th>\n",
       "      <th>volume</th>\n",
       "      <th>time</th>\n",
       "    </tr>\n",
       "  </thead>\n",
       "  <tbody>\n",
       "    <tr>\n",
       "      <th>0</th>\n",
       "      <td>2016-01-02</td>\n",
       "      <td>435.67</td>\n",
       "      <td>437.56</td>\n",
       "      <td>435.40</td>\n",
       "      <td>432.41</td>\n",
       "      <td>3276.709621</td>\n",
       "      <td>1451692800</td>\n",
       "    </tr>\n",
       "    <tr>\n",
       "      <th>1</th>\n",
       "      <td>2016-01-03</td>\n",
       "      <td>435.40</td>\n",
       "      <td>435.75</td>\n",
       "      <td>431.91</td>\n",
       "      <td>425.02</td>\n",
       "      <td>3904.335318</td>\n",
       "      <td>1451779200</td>\n",
       "    </tr>\n",
       "    <tr>\n",
       "      <th>2</th>\n",
       "      <td>2016-01-04</td>\n",
       "      <td>431.90</td>\n",
       "      <td>435.79</td>\n",
       "      <td>433.85</td>\n",
       "      <td>431.37</td>\n",
       "      <td>5894.445723</td>\n",
       "      <td>1451865600</td>\n",
       "    </tr>\n",
       "    <tr>\n",
       "      <th>3</th>\n",
       "      <td>2016-01-05</td>\n",
       "      <td>433.84</td>\n",
       "      <td>435.64</td>\n",
       "      <td>433.34</td>\n",
       "      <td>430.00</td>\n",
       "      <td>5150.109476</td>\n",
       "      <td>1451952000</td>\n",
       "    </tr>\n",
       "    <tr>\n",
       "      <th>4</th>\n",
       "      <td>2016-01-06</td>\n",
       "      <td>433.32</td>\n",
       "      <td>433.46</td>\n",
       "      <td>430.87</td>\n",
       "      <td>428.15</td>\n",
       "      <td>5476.959959</td>\n",
       "      <td>1452038400</td>\n",
       "    </tr>\n",
       "    <tr>\n",
       "      <th>...</th>\n",
       "      <td>...</td>\n",
       "      <td>...</td>\n",
       "      <td>...</td>\n",
       "      <td>...</td>\n",
       "      <td>...</td>\n",
       "      <td>...</td>\n",
       "      <td>...</td>\n",
       "    </tr>\n",
       "    <tr>\n",
       "      <th>2309</th>\n",
       "      <td>2022-04-29</td>\n",
       "      <td>39741.21</td>\n",
       "      <td>39926.80</td>\n",
       "      <td>38593.10</td>\n",
       "      <td>38161.85</td>\n",
       "      <td>14282.259935</td>\n",
       "      <td>1651190400</td>\n",
       "    </tr>\n",
       "    <tr>\n",
       "      <th>2310</th>\n",
       "      <td>2022-04-30</td>\n",
       "      <td>38592.27</td>\n",
       "      <td>38795.00</td>\n",
       "      <td>37644.10</td>\n",
       "      <td>37590.00</td>\n",
       "      <td>6931.072001</td>\n",
       "      <td>1651276800</td>\n",
       "    </tr>\n",
       "    <tr>\n",
       "      <th>2311</th>\n",
       "      <td>2022-05-01</td>\n",
       "      <td>37640.35</td>\n",
       "      <td>38675.37</td>\n",
       "      <td>38473.05</td>\n",
       "      <td>37401.00</td>\n",
       "      <td>7980.899760</td>\n",
       "      <td>1651363200</td>\n",
       "    </tr>\n",
       "    <tr>\n",
       "      <th>2312</th>\n",
       "      <td>2022-05-02</td>\n",
       "      <td>38469.49</td>\n",
       "      <td>39181.27</td>\n",
       "      <td>38510.89</td>\n",
       "      <td>38041.00</td>\n",
       "      <td>17946.983463</td>\n",
       "      <td>1651449600</td>\n",
       "    </tr>\n",
       "    <tr>\n",
       "      <th>2313</th>\n",
       "      <td>2022-05-03</td>\n",
       "      <td>38510.88</td>\n",
       "      <td>38643.48</td>\n",
       "      <td>37719.59</td>\n",
       "      <td>37505.01</td>\n",
       "      <td>17946.994501</td>\n",
       "      <td>1651536000</td>\n",
       "    </tr>\n",
       "  </tbody>\n",
       "</table>\n",
       "<p>2314 rows × 7 columns</p>\n",
       "</div>"
      ],
      "text/plain": [
       "           date      open      high     close       low        volume  \\\n",
       "0    2016-01-02    435.67    437.56    435.40    432.41   3276.709621   \n",
       "1    2016-01-03    435.40    435.75    431.91    425.02   3904.335318   \n",
       "2    2016-01-04    431.90    435.79    433.85    431.37   5894.445723   \n",
       "3    2016-01-05    433.84    435.64    433.34    430.00   5150.109476   \n",
       "4    2016-01-06    433.32    433.46    430.87    428.15   5476.959959   \n",
       "...         ...       ...       ...       ...       ...           ...   \n",
       "2309 2022-04-29  39741.21  39926.80  38593.10  38161.85  14282.259935   \n",
       "2310 2022-04-30  38592.27  38795.00  37644.10  37590.00   6931.072001   \n",
       "2311 2022-05-01  37640.35  38675.37  38473.05  37401.00   7980.899760   \n",
       "2312 2022-05-02  38469.49  39181.27  38510.89  38041.00  17946.983463   \n",
       "2313 2022-05-03  38510.88  38643.48  37719.59  37505.01  17946.994501   \n",
       "\n",
       "            time  \n",
       "0     1451692800  \n",
       "1     1451779200  \n",
       "2     1451865600  \n",
       "3     1451952000  \n",
       "4     1452038400  \n",
       "...          ...  \n",
       "2309  1651190400  \n",
       "2310  1651276800  \n",
       "2311  1651363200  \n",
       "2312  1651449600  \n",
       "2313  1651536000  \n",
       "\n",
       "[2314 rows x 7 columns]"
      ]
     },
     "execution_count": 16,
     "metadata": {},
     "output_type": "execute_result"
    }
   ],
   "source": [
    "z"
   ]
  },
  {
   "cell_type": "code",
   "execution_count": 18,
   "metadata": {},
   "outputs": [],
   "source": [
    "bb_indicator = BollingerBands(close = DataFrame['close'],window=20,window_dev=2,fillna = True)"
   ]
  },
  {
   "cell_type": "code",
   "execution_count": 19,
   "metadata": {},
   "outputs": [
    {
     "name": "stderr",
     "output_type": "stream",
     "text": [
      "C:\\Users\\shayanTH\\AppData\\Local\\Temp\\ipykernel_16952\\3998541396.py:1: SettingWithCopyWarning: \n",
      "A value is trying to be set on a copy of a slice from a DataFrame.\n",
      "Try using .loc[row_indexer,col_indexer] = value instead\n",
      "\n",
      "See the caveats in the documentation: https://pandas.pydata.org/pandas-docs/stable/user_guide/indexing.html#returning-a-view-versus-a-copy\n",
      "  z['bb_bbm'] = bb_indicator.bollinger_mavg()\n",
      "C:\\Users\\shayanTH\\AppData\\Local\\Temp\\ipykernel_16952\\3998541396.py:2: SettingWithCopyWarning: \n",
      "A value is trying to be set on a copy of a slice from a DataFrame.\n",
      "Try using .loc[row_indexer,col_indexer] = value instead\n",
      "\n",
      "See the caveats in the documentation: https://pandas.pydata.org/pandas-docs/stable/user_guide/indexing.html#returning-a-view-versus-a-copy\n",
      "  z['bb_bbh'] = bb_indicator.bollinger_hband()\n",
      "C:\\Users\\shayanTH\\AppData\\Local\\Temp\\ipykernel_16952\\3998541396.py:3: SettingWithCopyWarning: \n",
      "A value is trying to be set on a copy of a slice from a DataFrame.\n",
      "Try using .loc[row_indexer,col_indexer] = value instead\n",
      "\n",
      "See the caveats in the documentation: https://pandas.pydata.org/pandas-docs/stable/user_guide/indexing.html#returning-a-view-versus-a-copy\n",
      "  z['bb_bbl'] = bb_indicator.bollinger_lband()\n"
     ]
    }
   ],
   "source": [
    "z['bb_bbm'] = bb_indicator.bollinger_mavg()\n",
    "z['bb_bbh'] = bb_indicator.bollinger_hband()\n",
    "z['bb_bbl'] = bb_indicator.bollinger_lband()"
   ]
  },
  {
   "cell_type": "code",
   "execution_count": 21,
   "metadata": {},
   "outputs": [],
   "source": [
    "DataFrame = z"
   ]
  },
  {
   "cell_type": "code",
   "execution_count": 22,
   "metadata": {},
   "outputs": [],
   "source": [
    "DataFrame.to_csv('Prices.csv')"
   ]
  },
  {
   "cell_type": "code",
   "execution_count": null,
   "metadata": {},
   "outputs": [],
   "source": []
  }
 ],
 "metadata": {
  "interpreter": {
   "hash": "7b6f2d2ea4c783d05101de0cd909a145d276e851954a48e2c5e30790e50ff4af"
  },
  "kernelspec": {
   "display_name": "Python 3.10.4 64-bit",
   "language": "python",
   "name": "python3"
  },
  "language_info": {
   "codemirror_mode": {
    "name": "ipython",
    "version": 3
   },
   "file_extension": ".py",
   "mimetype": "text/x-python",
   "name": "python",
   "nbconvert_exporter": "python",
   "pygments_lexer": "ipython3",
   "version": "3.10.4"
  },
  "orig_nbformat": 4
 },
 "nbformat": 4,
 "nbformat_minor": 2
}
